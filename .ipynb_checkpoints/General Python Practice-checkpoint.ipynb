{
 "cells": [
  {
   "cell_type": "code",
   "execution_count": 1,
   "metadata": {},
   "outputs": [
    {
     "name": "stdout",
     "output_type": "stream",
     "text": [
      "Hello World\n"
     ]
    }
   ],
   "source": [
    "print(\"Hello World\")"
   ]
  },
  {
   "cell_type": "code",
   "execution_count": 2,
   "metadata": {},
   "outputs": [],
   "source": [
    "def romanToInt(self, s: str) -> int:\n",
    "        romanMapping = {\n",
    "            \"I\":1,\n",
    "            \"V\":5,\n",
    "            \"X\":10,\n",
    "            \"L\":50,\n",
    "            \"C\":100,\n",
    "            \"D\":500,\n",
    "            \"M\":1000,\n",
    "            \"IV\":4,\n",
    "            \"IX\":9,\n",
    "            \"XL\":40,\n",
    "            \"XC\":90,\n",
    "            \"CD\":400,\n",
    "            \"CM\":900\n",
    "        }\n",
    "        \n",
    "        value=0\n",
    "        if romanMapping.get(s[0:2]) in romanMapping:\n",
    "           value+=romanMapping.get(s[0:2])\n",
    "           s=s[2:]\n",
    "           print(s) \n",
    "        else:\n",
    "           value+=romanMapping.get(s[0:1])\n",
    "           s=s[1:]\n",
    "           print(s) \n",
    "        return value"
   ]
  },
  {
   "cell_type": "code",
   "execution_count": null,
   "metadata": {},
   "outputs": [],
   "source": [
    "romanToInt(\"III\")"
   ]
  }
 ],
 "metadata": {
  "kernelspec": {
   "display_name": "Python 3",
   "language": "python",
   "name": "python3"
  },
  "language_info": {
   "codemirror_mode": {
    "name": "ipython",
    "version": 3
   },
   "file_extension": ".py",
   "mimetype": "text/x-python",
   "name": "python",
   "nbconvert_exporter": "python",
   "pygments_lexer": "ipython3",
   "version": "3.8.5"
  }
 },
 "nbformat": 4,
 "nbformat_minor": 4
}
