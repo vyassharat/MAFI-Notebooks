{
 "cells": [
  {
   "cell_type": "markdown",
   "metadata": {},
   "source": [
    "### Forwards and Futures\n",
    "\n",
    "Forwards and Futures are one of the simplest derivatives to begin with. The basic idea is to try and lock in a price now for a future transaction\n",
    "More formally, a forward is simply a legal contract to trade some commodity at a fixed price in a specific time in the future. Typically at the time of delivery, you can either accept physical delivery or do a cash settlement. A cash settlement will lead to a payoff of S(T) - F for the Long and a F - S(T) payoff for the Short. This is partially why many derivatives including these are considered \"zero sum\". "
   ]
  },
  {
   "cell_type": "markdown",
   "metadata": {},
   "source": [
    "#### Cost of Carry Model:\n",
    "\n",
    "To try and illustrate the valuation of forwards and futures(standardized/exchange-traded forwards), we'll use the Law-of-one-price and construct two portfolios that have replicating payoffs. B/c they have replicating payoffs, by LOP their values must be the same to avoid arbitrage.\n",
    "\n",
    "##### Portfolio 1:\n",
    "Long Forward:\n",
    "\n",
    "| Step         | t=0 Cashflow | t=T Cashflow | Explanation                                                                                              |   |\n",
    "|--------------|--------------|--------------|----------------------------------------------------------------------------------------------------------|---|\n",
    "| Long Forward | 0            | S(T) - F     | We buy a forward contract that will deliver us a stock<br>at time T worth S(T). The cost we'll pay is F. |   |\n",
    "| Net          | 0            | S(T) - F     |                                                                                                          |   |\n",
    "|              |              |              |                                                                                                          |   |"
   ]
  },
  {
   "cell_type": "markdown",
   "metadata": {},
   "source": [
    "##### Portfolio 2:\n",
    "Short ZCB and Buy Underlying\n",
    "\n",
    "| Step                  | t=0 Cashflow    | t=T Cashflow | Explanation                                                                                                                          |   |\n",
    "|-----------------------|-----------------|--------------|--------------------------------------------------------------------------------------------------------------------------------------|---|\n",
    "| Buy Stock             | -S(0)           | S(T)         | We bought the underlying at T=0 in the spot market meaning it cost us S(0). <br>It'll be worth S(T) if we were to sell it at time T. |   |\n",
    "| Sell Zero Coupon Bond | F/(1+R)         | -F           | We want to borrow F/(1+R) today so we'll pay F back at time T using the<br>interest rate R.                                          |   |\n",
    "| Net                   | -S(0) + F/(1+R) | S(T)-F       | Note here the t=T cashflows between both portfolios match!                                                                           |   |\n"
   ]
  },
  {
   "cell_type": "markdown",
   "metadata": {},
   "source": [
    "##### Law of One Price\n",
    "\n",
    "Note above, the t=T cashflows of both porfolio's match to be S(T)-F. By the LOP, this means the t=0 value must also hold. This means we find that F= S(0)(1+R). This brings us to the formal value of a forward/future assuming no market frictions, transactions costs, etc. \n",
    "\n",
    "F = S(1+R)"
   ]
  },
  {
   "cell_type": "markdown",
   "metadata": {},
   "source": [
    "#### Compute Future/Forward Price"
   ]
  },
  {
   "cell_type": "code",
   "execution_count": 7,
   "metadata": {},
   "outputs": [
    {
     "name": "stdout",
     "output_type": "stream",
     "text": [
      "Please enter the price of the underlying S: $100\n",
      "Please enter the expiration in Years of the future: 1\n",
      "Please enter current interest rate: .06\n",
      "$106.0 is the forward price\n"
     ]
    },
    {
     "data": {
      "text/plain": [
       "106.0"
      ]
     },
     "execution_count": 7,
     "metadata": {},
     "output_type": "execute_result"
    }
   ],
   "source": [
    "import math\n",
    "\n",
    "def computeForwardPrice(underlying_price, interest_rate, expiration):\n",
    "    forward_price = underlying_price*((1+interest_rate)**expiration)\n",
    "    print(f'${forward_price} is the forward price')\n",
    "    return forward_price\n",
    "\n",
    "underlying_price = float(input(\"Please enter the price of the underlying S: $\"))\n",
    "expiration = float(input(\"Please enter the expiration in Years of the future: \"))\n",
    "interest_rate = float(input(\"Please enter current interest rate: \"))\n",
    "computeForwardPrice(underlying_price, interest_rate, expiration)\n"
   ]
  },
  {
   "cell_type": "markdown",
   "metadata": {},
   "source": [
    "#### Determine Intermediate Value of Forward/Future"
   ]
  },
  {
   "cell_type": "code",
   "execution_count": 18,
   "metadata": {},
   "outputs": [
    {
     "name": "stdout",
     "output_type": "stream",
     "text": [
      "Please enter the current price of the underlying S: $120\n",
      "Please enter the t=0 price of the underlying S: $100\n",
      "Please enter the expiration in Years of the future: 1\n",
      "Please enter the time t price you'd like to compute: .5\n",
      "Please indicate the interest type (S=Simple/C=Compounding): S\n",
      "Please enter current interest rate: .06\n",
      "$106.0 is the forward price\n",
      "Current value of the contract is $17.08737864077669\n"
     ]
    }
   ],
   "source": [
    "underlying_price = float(input(\"Please enter the current price of the underlying S: $\"))\n",
    "initial_underlying_price = float(input(\"Please enter the t=0 price of the underlying S: $\"))\n",
    "expiration = float(input(\"Please enter the expiration in Years of the future: \"))\n",
    "time_t = float(input(\"Please enter the time t price you'd like to compute: \"))\n",
    "interest_type = input(\"Please indicate the interest type (S=Simple/C=Compounding): \")\n",
    "interest_rate = float(input(\"Please enter current interest rate: \"))\n",
    "\n",
    "if interest_type == 'C':\n",
    "    df = math.exp(-1*interest_rate * (expiration - time_t))\n",
    "else:\n",
    "    df = 1/((1+interest_rate*(expiration-time_t)))\n",
    "    \n",
    "value = underlying_price - df*computeForwardPrice(initial_underlying_price, interest_rate, expiration)\n",
    "\n",
    "print(f'Current value of the contract is ${value}')"
   ]
  },
  {
   "cell_type": "markdown",
   "metadata": {},
   "source": [
    "#### Hedging"
   ]
  },
  {
   "cell_type": "code",
   "execution_count": 19,
   "metadata": {},
   "outputs": [],
   "source": [
    "##TODO: Need to comeback and add hedging related material"
   ]
  },
  {
   "cell_type": "markdown",
   "metadata": {},
   "source": [
    "Feel free to contact me about questions/comments etc. I can be reached by email at sharat.vyas.1@gmail.com"
   ]
  },
  {
   "cell_type": "code",
   "execution_count": null,
   "metadata": {},
   "outputs": [],
   "source": []
  }
 ],
 "metadata": {
  "kernelspec": {
   "display_name": "Python 3",
   "language": "python",
   "name": "python3"
  },
  "language_info": {
   "codemirror_mode": {
    "name": "ipython",
    "version": 3
   },
   "file_extension": ".py",
   "mimetype": "text/x-python",
   "name": "python",
   "nbconvert_exporter": "python",
   "pygments_lexer": "ipython3",
   "version": "3.8.5"
  }
 },
 "nbformat": 4,
 "nbformat_minor": 4
}
